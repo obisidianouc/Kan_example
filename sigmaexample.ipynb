{
 "cells": [
  {
   "cell_type": "markdown",
   "metadata": {},
   "source": [
    "### Introduction\n",
    "\n",
    "Calculating the potential density anomaly of seawater, considering variables such as salinity, temperature, and pressure, is a complex task. The latest standard in oceanography, TEOS-10, facilitates this computation through an efficient 75-term polynomial expression developed by Roquet et al. (2015). This approach uses absolute salinity and conservative temperature to accurately determine the potential density anomaly (ptential density - 1000 kg/m^3).\n",
    "\n",
    "Recently, Kolmogorov-Arnold Network (KAN) has been proposed to achieve good results in finding symbolic functions behind scientific data. Here, I tried creating a KAN network to obtain much simpler formula  while still maintaining the reasonable accuracy of the computation of potential density anomaly.\n",
    "\n",
    "Reference:\n",
    "\n",
    "1. Roquet, F., Madec, G., McDougall, T. J., & Barker, P. M. (2015). Accurate polynomial expressions for the density and specific volume of seawater using the TEOS-10 standard. Ocean Modelling, 90, 29-43.\n",
    "\n",
    "2. TEOS-10 gsw_sigma0 function: https://www.teos-10.org/pubs/gsw/html/gsw_sigma0.html\n",
    "\n",
    "3. Liu, Z., Wang, Y., Vaidya, S., Ruehle, F., Halverson, J., Soljačić, M., ... & Tegmark, M. (2024). Kan: Kolmogorov-arnold networks. arXiv preprint arXiv:2404.19756."
   ]
  },
  {
   "cell_type": "markdown",
   "metadata": {},
   "source": [
    "### Step 1: Creating training dataset\n",
    "To obtain the dataset of absolute salinity (SA), conservatrive temperature (CT) and potential density anomaly, data are downloaded from World Ocean Atlas 2018. SA and CT were computed in ODV software based on the TEOS-10 standards (https://www.teos-10.org/pubs/gsw/html/gsw_sigma0.html).  "
   ]
  },
  {
   "cell_type": "code",
   "execution_count": 1,
   "metadata": {},
   "outputs": [
    {
     "name": "stdout",
     "output_type": "stream",
     "text": [
      "         CTDPRS  Temperature  Salinity      SA    CT  density\n",
      "0          2128         2.32    34.715  34.885  2.16   27.735\n",
      "1          1872         2.65    34.643  34.812  2.51   27.648\n",
      "2          1976         2.34    34.644  34.814  2.20   27.677\n",
      "3            20         8.94    34.343  34.505  8.94   26.616\n",
      "4          3561         0.50    34.695  34.868  0.25   27.855\n",
      "...         ...          ...       ...     ...   ...      ...\n",
      "1031815     277         0.87    34.687  34.858  0.86   27.810\n",
      "1031816    2741         1.75    34.709  34.881  1.55   27.780\n",
      "1031817    1925         2.35    34.618  34.788  2.21   27.655\n",
      "1031818    3762         1.12    34.720  34.892  0.84   27.838\n",
      "1031819     505         2.16    34.612  34.782  2.13   27.656\n",
      "\n",
      "[1031820 rows x 6 columns]\n"
     ]
    }
   ],
   "source": [
    "from kan import *\n",
    "\n",
    "from pandas import read_csv\n",
    "\n",
    "column_names = ['CTDPRS', 'Temperature', 'Salinity', 'SA', 'CT','density']\n",
    "data = read_csv('./WOASA.csv', header=0)\n",
    "\n",
    "data = data.sample(frac=1).reset_index(drop=True)\n",
    "x = data.loc[:,column_names]\n",
    "import pandas as pd\n",
    "x = pd.DataFrame(data=x, columns=column_names)\n",
    "print(x)"
   ]
  },
  {
   "cell_type": "code",
   "execution_count": 5,
   "metadata": {},
   "outputs": [],
   "source": [
    "column_xtrain = ['SA', 'CT']\n",
    "column_ytrain = [\"density\"]"
   ]
  },
  {
   "cell_type": "code",
   "execution_count": 24,
   "metadata": {},
   "outputs": [],
   "source": [
    "# the original dataset has 1031820 entries, here we only select 18000 (1%) entries for train and test datasets\n",
    "x_train = x.loc[0:18000,column_xtrain]\n",
    "y_train = x.loc[0:18000,column_ytrain ]\n",
    "x_test = x.loc[18000:22000,column_xtrain]\n",
    "y_test = x.loc[18000:22000,column_ytrain ]\n",
    "\n",
    "dataset = {}\n",
    "dataset['train_input'] = torch.from_numpy(x_train.values).float()\n",
    "dataset['test_input'] = torch.from_numpy(x_test.values).float()\n",
    "\n",
    "dataset['train_label'] = torch.from_numpy(y_train.values).float() \n",
    "dataset['test_label'] = torch.from_numpy(y_test.values).float()"
   ]
  },
  {
   "cell_type": "markdown",
   "metadata": {},
   "source": [
    "### Step 2: Creating a KAN Network"
   ]
  },
  {
   "cell_type": "code",
   "execution_count": 25,
   "metadata": {},
   "outputs": [],
   "source": [
    "# create a KAN: 2D inputs, 1D output, and 1 hidden neurons. cubic spline (k=3), 5 grid intervals (grid=5).\n",
    "\n",
    "model = KAN(width=[2,1,1], grid=5, k=3, seed=42)"
   ]
  },
  {
   "cell_type": "code",
   "execution_count": 26,
   "metadata": {},
   "outputs": [
    {
     "data": {
      "image/png": "[encoded data removed]",
      "text/plain": [
       "<Figure size 360x288 with 4 Axes>"
      ]
     },
     "metadata": {
      "needs_background": "light"
     },
     "output_type": "display_data"
    }
   ],
   "source": [
    "# plot KAN at initialization\n",
    "model(dataset['train_input']);\n",
    "model.plot(beta=100)"
   ]
  },
  {
   "cell_type": "code",
   "execution_count": 29,
   "metadata": {},
   "outputs": [
    {
     "name": "stderr",
     "output_type": "stream",
     "text": [
      "train loss: 1.73e-02 | test loss: 1.73e-02 | reg: 2.18e+01 : 100%|██| 20/20 [00:14<00:00,  1.37it/s]\n"
     ]
    }
   ],
   "source": [
    "#train the model\n",
    "model.train(dataset, opt=\"LBFGS\", steps=20,lr=1e-2);"
   ]
  },
  {
   "cell_type": "code",
   "execution_count": 30,
   "metadata": {},
   "outputs": [
    {
     "data": {
      "image/png": "[encoded data removed]",
      "text/plain": [
       "<Figure size 360x288 with 4 Axes>"
      ]
     },
     "metadata": {
      "needs_background": "light"
     },
     "output_type": "display_data"
    }
   ],
   "source": [
    "# visualize the model\n",
    "model.plot(beta=100)"
   ]
  },
  {
   "cell_type": "markdown",
   "metadata": {},
   "source": [
    "### Step 3: Finding symbolic formula to compute potential density anomaly from SA and CT\n",
    "\n",
    "Note that (0,0,0) is like a \"x\" function, (0,0,1) is like a x^2 function, and (1,0,0) is like a \"x\" function "
   ]
  },
  {
   "cell_type": "code",
   "execution_count": 31,
   "metadata": {},
   "outputs": [
    {
     "name": "stdout",
     "output_type": "stream",
     "text": [
      "r2 is 0.9991711974143982\n"
     ]
    },
    {
     "name": "stderr",
     "output_type": "stream",
     "text": [
      "train loss: 1.57e-02 | test loss: 1.57e-02 | reg: 2.19e+01 : 100%|██| 20/20 [00:09<00:00,  2.17it/s]\n"
     ]
    }
   ],
   "source": [
    "model.fix_symbolic(0,0,0,'x')\n",
    "model.train(dataset, opt=\"LBFGS\", steps=20);"
   ]
  },
  {
   "cell_type": "code",
   "execution_count": 32,
   "metadata": {},
   "outputs": [
    {
     "name": "stdout",
     "output_type": "stream",
     "text": [
      "r2 is 0.9996784329414368\n"
     ]
    },
    {
     "name": "stderr",
     "output_type": "stream",
     "text": [
      "train loss: 5.68e-03 | test loss: 5.68e-03 | reg: 2.18e+01 : 100%|██| 20/20 [00:02<00:00,  7.39it/s]\n"
     ]
    }
   ],
   "source": [
    "model.fix_symbolic(0,1,0,'x^2')\n",
    "model.train(dataset, opt=\"LBFGS\", steps=20);"
   ]
  },
  {
   "cell_type": "code",
   "execution_count": 33,
   "metadata": {},
   "outputs": [
    {
     "name": "stdout",
     "output_type": "stream",
     "text": [
      "r2 is 0.9998708367347717\n"
     ]
    },
    {
     "name": "stderr",
     "output_type": "stream",
     "text": [
      "train loss: 1.06e-02 | test loss: 1.06e-02 | reg: 2.18e+01 : 100%|██| 20/20 [00:03<00:00,  6.43it/s]\n"
     ]
    }
   ],
   "source": [
    "model.fix_symbolic(1,0,0,'x')\n",
    "model.train(dataset, opt=\"LBFGS\", steps=20);"
   ]
  },
  {
   "cell_type": "code",
   "execution_count": 83,
   "metadata": {},
   "outputs": [
    {
     "name": "stderr",
     "output_type": "stream",
     "text": [
      "train loss: 5.42e-03 | test loss: 5.63e-03 | reg: 2.20e+01 : 100%|██| 50/50 [00:04<00:00, 11.08it/s]\n"
     ]
    }
   ],
   "source": [
    "# continue to train the model\n",
    "model.train(dataset, opt=\"LBFGS\", steps=50);\n"
   ]
  },
  {
   "cell_type": "code",
   "execution_count": 13,
   "metadata": {},
   "outputs": [
    {
     "data": {
      "image/png": "[encoded data removed]",
      "text/plain": [
       "<Figure size 360x288 with 4 Axes>"
      ]
     },
     "metadata": {
      "needs_background": "light"
     },
     "output_type": "display_data"
    }
   ],
   "source": [
    "# visualize the model\n",
    "model.plot(beta=100)"
   ]
  },
  {
   "cell_type": "code",
   "execution_count": 34,
   "metadata": {},
   "outputs": [
    {
     "data": {
      "text/latex": [
       "$\\displaystyle 0.79 x_{1} - 0.13 \\left(- 0.21 x_{2} - 1\\right)^{2} + 0.54$"
      ],
      "text/plain": [
       "0.79*x_1 - 0.13*(-0.21*x_2 - 1)**2 + 0.54"
      ]
     },
     "execution_count": 34,
     "metadata": {},
     "output_type": "execute_result"
    }
   ],
   "source": [
    "# get symbolic_formula\n",
    "model.symbolic_formula()[0][0]"
   ]
  },
  {
   "cell_type": "code",
   "execution_count": 53,
   "metadata": {},
   "outputs": [],
   "source": [
    "\n",
    "# I run the KAN network several times and I find the coefficients below can archieve a best result\n",
    "simple_model_rho = 0.79 * data[\"SA\"] - 0.13 * (0.21 * data[\"CT\"] + 1) ** 2 + 0.445"
   ]
  },
  {
   "cell_type": "code",
   "execution_count": 93,
   "metadata": {},
   "outputs": [
    {
     "name": "stderr",
     "output_type": "stream",
     "text": [
      "C:\\Users\\Zhou\\AppData\\Local\\Temp\\ipykernel_14224\\694772121.py:4: FutureWarning: Support for multi-dimensional indexing (e.g. `obj[:, None]`) is deprecated and will be removed in a future version.  Convert to a numpy array before indexing instead.\n",
      "  slope = np.linalg.lstsq(simple_model_rho[:, np.newaxis], data[\"density\"], rcond=None)[0][0]\n"
     ]
    },
    {
     "data": {
      "image/png": "[encoded data removed]",
      "text/plain": [
       "<Figure size 432x288 with 1 Axes>"
      ]
     },
     "metadata": {
      "needs_background": "light"
     },
     "output_type": "display_data"
    }
   ],
   "source": [
    "import matplotlib.pyplot as plt\n",
    "# Performing linear regression\n",
    "# Performing linear regression with a forced intercept at zero\n",
    "slope = np.linalg.lstsq(simple_model_rho[:, np.newaxis], data[\"density\"], rcond=None)[0][0]\n",
    "line = slope * simple_model_rho\n",
    "\n",
    "# Creating the scatter plot\n",
    "plt.scatter(simple_model_rho, data[\"density\"], color='blue', label='Data Points')\n",
    "\n",
    "# Plotting the linear fit line\n",
    "plt.plot(simple_model_rho, line, color='red', label=f'Fit Line: y={slope:.5f}x')\n",
    "\n",
    "# Adding title and labels\n",
    "plt.title('Linear Fit through Origin')\n",
    "plt.xlabel('simple_model_rho')\n",
    "plt.ylabel('density')\n",
    "plt.legend()\n",
    "\n",
    "# Showing the plot\n",
    "plt.show()"
   ]
  },
  {
   "cell_type": "code",
   "execution_count": 94,
   "metadata": {},
   "outputs": [
    {
     "name": "stdout",
     "output_type": "stream",
     "text": [
      "The difference between actual and predicted values 0.008389372521355546\n",
      "Relative Root Mean Squared Error: 0.030587360049704627 %\n"
     ]
    }
   ],
   "source": [
    "# calculate RMSE\n",
    "\n",
    "import math  \n",
    "import sklearn.metrics  \n",
    "\n",
    "mse = sklearn.metrics.mean_squared_error(data[\"density\"],simple_model_rho)  \n",
    "  \n",
    "rmse = math.sqrt(mse)  \n",
    "print(\"The difference between actual and predicted values\", rmse)  \n",
    "\n",
    "# Calculate the mean of the actual values\n",
    "mean_actual = np.mean(data[\"density\"])\n",
    "\n",
    "# Calculate Normalized Root Mean Squared Error (NRMSE) as a percentage\n",
    "nrmse_percentage = (rmse / mean_actual) * 100\n",
    "print(\"Relative Root Mean Squared Error:\", nrmse_percentage, \"%\")"
   ]
  },
  {
   "cell_type": "code",
   "execution_count": 95,
   "metadata": {},
   "outputs": [
    {
     "data": {
      "image/png": "[encoded data removed]",
      "text/plain": [
       "<Figure size 432x288 with 1 Axes>"
      ]
     },
     "metadata": {
      "needs_background": "light"
     },
     "output_type": "display_data"
    }
   ],
   "source": [
    "# take a look on the error distribution vs potential density anomaly\n",
    "plt.scatter( data[\"density\"], data[\"density\"]-simple_model_rho,color='blue', label='Data Points')\n",
    "plt.show()"
   ]
  },
  {
   "cell_type": "code",
   "execution_count": 96,
   "metadata": {},
   "outputs": [
    {
     "name": "stdout",
     "output_type": "stream",
     "text": [
      "34.68393343606443\n",
      "2.880657566242175\n"
     ]
    }
   ],
   "source": [
    "# compare gloabl mean \n",
    "mean_SA = data[\"SA\"].mean()\n",
    "mean_CT = data[\"CT\"].mean()\n",
    "\n",
    "print(mean_SA)\n",
    "\n",
    "print(mean_CT)\n"
   ]
  },
  {
   "cell_type": "code",
   "execution_count": 97,
   "metadata": {},
   "outputs": [
    {
     "data": {
      "text/plain": [
       "27.510449999490113"
      ]
     },
     "execution_count": 97,
     "metadata": {},
     "output_type": "execute_result"
    }
   ],
   "source": [
    "0.79 * mean_SA - 0.13 * (0.21 * mean_CT+ 1) ** 2 + 0.445"
   ]
  },
  {
   "cell_type": "code",
   "execution_count": 98,
   "metadata": {},
   "outputs": [
    {
     "data": {
      "text/plain": [
       "27.514075143652235"
      ]
     },
     "execution_count": 98,
     "metadata": {},
     "output_type": "execute_result"
    }
   ],
   "source": [
    "import gsw\n",
    "gsw.density.sigma0(mean_SA, mean_CT)\n"
   ]
  },
  {
   "cell_type": "markdown",
   "metadata": {},
   "source": [
    "### Evaluation by using a real CTD profile "
   ]
  },
  {
   "cell_type": "code",
   "execution_count": 99,
   "metadata": {},
   "outputs": [],
   "source": [
    "test_data = read_csv('./SAtest.csv', header=0)"
   ]
  },
  {
   "cell_type": "code",
   "execution_count": 100,
   "metadata": {},
   "outputs": [],
   "source": [
    "rho_test = gsw.sigma0(test_data['SA'],test_data['CT'])\n",
    "rho_test_simple = 0.79 * test_data['SA'] - 0.13 * (0.21 * test_data['CT']+ 1) ** 2 + 0.445"
   ]
  },
  {
   "cell_type": "code",
   "execution_count": 101,
   "metadata": {},
   "outputs": [
    {
     "data": {
      "text/plain": [
       "[<matplotlib.lines.Line2D at 0x286e9c3bcd0>]"
      ]
     },
     "execution_count": 101,
     "metadata": {},
     "output_type": "execute_result"
    },
    {
     "data": {
      "image/png": "[encoded data removed]",
      "text/plain": [
       "<Figure size 432x288 with 1 Axes>"
      ]
     },
     "metadata": {
      "needs_background": "light"
     },
     "output_type": "display_data"
    }
   ],
   "source": [
    "plt.plot(rho_test,-test_data['CTDPRS'])\n",
    "plt.plot(rho_test_simple,-test_data['CTDPRS'])\n"
   ]
  },
  {
   "cell_type": "code",
   "execution_count": 102,
   "metadata": {},
   "outputs": [
    {
     "data": {
      "text/plain": [
       "[<matplotlib.lines.Line2D at 0x286e9bbd2a0>]"
      ]
     },
     "execution_count": 102,
     "metadata": {},
     "output_type": "execute_result"
    },
    {
     "data": {
      "image/png": "[encoded data removed]",
      "text/plain": [
       "<Figure size 432x288 with 1 Axes>"
      ]
     },
     "metadata": {
      "needs_background": "light"
     },
     "output_type": "display_data"
    }
   ],
   "source": [
    "plt.plot(rho_test,rho_test-rho_test_simple)"
   ]
  }
 ],
 "metadata": {
  "kernelspec": {
   "display_name": "Python 3",
   "language": "python",
   "name": "python3"
  },
  "language_info": {
   "codemirror_mode": {
    "name": "ipython",
    "version": 3
   },
   "file_extension": ".py",
   "mimetype": "text/x-python",
   "name": "python",
   "nbconvert_exporter": "python",
   "pygments_lexer": "ipython3",
   "version": "3.10.2"
  }
 },
 "nbformat": 4,
 "nbformat_minor": 2
}
